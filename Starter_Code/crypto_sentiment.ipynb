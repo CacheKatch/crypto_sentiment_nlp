{
 "cells": [
  {
   "cell_type": "markdown",
   "metadata": {},
   "source": [
    "# News Headlines Sentiment\n",
    "\n",
    "Use the news api to pull the latest news articles for bitcoin and ethereum and create a DataFrame of sentiment scores for each coin. \n",
    "\n",
    "Use descriptive statistics to answer the following questions:\n",
    "1. Which coin had the highest mean positive score?\n",
    "2. Which coin had the highest negative score?\n",
    "3. Which coin had the highest positive score?"
   ]
  },
  {
   "cell_type": "code",
   "execution_count": 1,
   "metadata": {},
   "outputs": [],
   "source": [
    "# Initial imports\n",
    "import os\n",
    "import pandas as pd\n",
    "from dotenv import load_dotenv\n",
    "from nltk.sentiment.vader import SentimentIntensityAnalyzer\n",
    "analyzer = SentimentIntensityAnalyzer()\n",
    "\n",
    "%matplotlib inline"
   ]
  },
  {
   "cell_type": "code",
   "execution_count": 2,
   "metadata": {},
   "outputs": [
    {
     "output_type": "execute_result",
     "data": {
      "text/plain": [
       "str"
      ]
     },
     "metadata": {},
     "execution_count": 2
    }
   ],
   "source": [
    "# Read your api key environment variable\n",
    "# YOUR CODE HERE!\n",
    "load_dotenv()\n",
    "\n",
    "apinews_key_read = os.getenv(\"NEWSAPI_KEY\")\n",
    "type(apinews_key_read)"
   ]
  },
  {
   "cell_type": "code",
   "execution_count": 3,
   "metadata": {},
   "outputs": [],
   "source": [
    "# Create a newsapi client\n",
    "from newsapi.newsapi_client import NewsApiClient\n",
    "newsapi = NewsApiClient(api_key=apinews_key_read)"
   ]
  },
  {
   "cell_type": "code",
   "execution_count": 4,
   "metadata": {},
   "outputs": [
    {
     "output_type": "execute_result",
     "data": {
      "text/plain": [
       "4419"
      ]
     },
     "metadata": {},
     "execution_count": 4
    }
   ],
   "source": [
    "# Fetch the Bitcoin news articles\n",
    "fetch_bitcoin_news = newsapi.get_everything(\n",
    "    q=\"Bitcoin\",\n",
    "    language=\"en\",\n",
    "    sort_by=\"relevancy\"\n",
    ")\n",
    "fetch_bitcoin_news[\"totalResults\"]"
   ]
  },
  {
   "cell_type": "code",
   "execution_count": 5,
   "metadata": {},
   "outputs": [
    {
     "output_type": "execute_result",
     "data": {
      "text/plain": [
       "1217"
      ]
     },
     "metadata": {},
     "execution_count": 5
    }
   ],
   "source": [
    "# Fetch the Ethereum news articles\n",
    "fetch_ethereum_news= newsapi.get_everything(\n",
    "    q=\"Ethereum\",\n",
    "    language=\"en\",\n",
    "    sort_by=\"relevancy\"\n",
    ")\n",
    "fetch_ethereum_news[\"totalResults\"]"
   ]
  },
  {
   "cell_type": "code",
   "execution_count": 6,
   "metadata": {},
   "outputs": [
    {
     "output_type": "stream",
     "name": "stderr",
     "text": [
      "[nltk_data] Downloading package vader_lexicon to\n[nltk_data]     C:\\Users\\Trader\\AppData\\Roaming\\nltk_data...\n[nltk_data]   Package vader_lexicon is already up-to-date!\n"
     ]
    }
   ],
   "source": [
    "# Create the Bitcoin sentiment scores DataFrame\n",
    "import nltk\n",
    "nltk.download('vader_lexicon') # update Vader Lexicon\n",
    "\n",
    "# Initialize VADER sentiment analyzer\n",
    "analyzer= SentimentIntensityAnalyzer()\n",
    "bitcoin_sentiments = []\n",
    "\n"
   ]
  },
  {
   "cell_type": "code",
   "execution_count": 7,
   "metadata": {},
   "outputs": [],
   "source": [
    "for article in fetch_bitcoin_news[\"articles\"]:\n",
    "    try:\n",
    "        text = article[\"content\"]\n",
    "        date = article[\"publishedAt\"][:10]\n",
    "        sentiment = analyzer.polarity_scores(text)\n",
    "        compound = sentiment[\"compound\"]\n",
    "        pos = sentiment[\"pos\"]\n",
    "        neu = sentiment[\"neu\"]\n",
    "        neg = sentiment[\"neg\"]\n",
    "\n",
    "        bitcoin_sentiments.append({\n",
    "            \"text\": text,\n",
    "            \"date\": date,\n",
    "            \"compound\": compound,\n",
    "            \"positive\": pos,\n",
    "            \"negative\": neg,\n",
    "            \"neutral\": neu\n",
    "        })\n",
    "    except AttributeError:\n",
    "        pass"
   ]
  },
  {
   "cell_type": "code",
   "execution_count": 8,
   "metadata": {},
   "outputs": [
    {
     "output_type": "execute_result",
     "data": {
      "text/plain": [
       "         date                                               text  compound  \\\n",
       "0  2020-11-12  A former Microsoft software engineer from Ukra...   -0.6705   \n",
       "1  2020-12-03  Visa has partnered with cryptocurrency startup...    0.6369   \n",
       "2  2020-11-12  PayPal is bringing its newly-announced support...    0.2144   \n",
       "3  2020-11-20  In November 2017, after an absolutely massive,...    0.2023   \n",
       "4  2020-12-06  Unlike ‘conventional’ cryptocurrencies, a cent...    0.0000   \n",
       "\n",
       "   positive  negative  neutral  \n",
       "0     0.064     0.199    0.737  \n",
       "1     0.162     0.000    0.838  \n",
       "2     0.053     0.000    0.947  \n",
       "3     0.050     0.000    0.950  \n",
       "4     0.000     0.000    1.000  "
      ],
      "text/html": "<div>\n<style scoped>\n    .dataframe tbody tr th:only-of-type {\n        vertical-align: middle;\n    }\n\n    .dataframe tbody tr th {\n        vertical-align: top;\n    }\n\n    .dataframe thead th {\n        text-align: right;\n    }\n</style>\n<table border=\"1\" class=\"dataframe\">\n  <thead>\n    <tr style=\"text-align: right;\">\n      <th></th>\n      <th>date</th>\n      <th>text</th>\n      <th>compound</th>\n      <th>positive</th>\n      <th>negative</th>\n      <th>neutral</th>\n    </tr>\n  </thead>\n  <tbody>\n    <tr>\n      <th>0</th>\n      <td>2020-11-12</td>\n      <td>A former Microsoft software engineer from Ukra...</td>\n      <td>-0.6705</td>\n      <td>0.064</td>\n      <td>0.199</td>\n      <td>0.737</td>\n    </tr>\n    <tr>\n      <th>1</th>\n      <td>2020-12-03</td>\n      <td>Visa has partnered with cryptocurrency startup...</td>\n      <td>0.6369</td>\n      <td>0.162</td>\n      <td>0.000</td>\n      <td>0.838</td>\n    </tr>\n    <tr>\n      <th>2</th>\n      <td>2020-11-12</td>\n      <td>PayPal is bringing its newly-announced support...</td>\n      <td>0.2144</td>\n      <td>0.053</td>\n      <td>0.000</td>\n      <td>0.947</td>\n    </tr>\n    <tr>\n      <th>3</th>\n      <td>2020-11-20</td>\n      <td>In November 2017, after an absolutely massive,...</td>\n      <td>0.2023</td>\n      <td>0.050</td>\n      <td>0.000</td>\n      <td>0.950</td>\n    </tr>\n    <tr>\n      <th>4</th>\n      <td>2020-12-06</td>\n      <td>Unlike ‘conventional’ cryptocurrencies, a cent...</td>\n      <td>0.0000</td>\n      <td>0.000</td>\n      <td>0.000</td>\n      <td>1.000</td>\n    </tr>\n  </tbody>\n</table>\n</div>"
     },
     "metadata": {},
     "execution_count": 8
    }
   ],
   "source": [
    "bitcoin_df = pd.DataFrame(bitcoin_sentiments)\n",
    "\n",
    "#Reorder columns\n",
    "cols = [\"date\",\"text\", \"compound\", \"positive\",\"negative\", \"neutral\"]\n",
    "bitcoin_df = bitcoin_df[cols]\n",
    "bitcoin_df.head()"
   ]
  },
  {
   "cell_type": "code",
   "execution_count": 9,
   "metadata": {},
   "outputs": [
    {
     "output_type": "execute_result",
     "data": {
      "text/plain": [
       "        compound   positive   negative    neutral\n",
       "count  19.000000  19.000000  19.000000  19.000000\n",
       "mean    0.119611   0.060526   0.029000   0.910421\n",
       "std     0.391383   0.065557   0.066381   0.096570\n",
       "min    -0.670500   0.000000   0.000000   0.716000\n",
       "25%     0.000000   0.000000   0.000000   0.833500\n",
       "50%     0.000000   0.050000   0.000000   0.947000\n",
       "75%     0.411700   0.102500   0.000000   1.000000\n",
       "max     0.765000   0.174000   0.215000   1.000000"
      ],
      "text/html": "<div>\n<style scoped>\n    .dataframe tbody tr th:only-of-type {\n        vertical-align: middle;\n    }\n\n    .dataframe tbody tr th {\n        vertical-align: top;\n    }\n\n    .dataframe thead th {\n        text-align: right;\n    }\n</style>\n<table border=\"1\" class=\"dataframe\">\n  <thead>\n    <tr style=\"text-align: right;\">\n      <th></th>\n      <th>compound</th>\n      <th>positive</th>\n      <th>negative</th>\n      <th>neutral</th>\n    </tr>\n  </thead>\n  <tbody>\n    <tr>\n      <th>count</th>\n      <td>19.000000</td>\n      <td>19.000000</td>\n      <td>19.000000</td>\n      <td>19.000000</td>\n    </tr>\n    <tr>\n      <th>mean</th>\n      <td>0.119611</td>\n      <td>0.060526</td>\n      <td>0.029000</td>\n      <td>0.910421</td>\n    </tr>\n    <tr>\n      <th>std</th>\n      <td>0.391383</td>\n      <td>0.065557</td>\n      <td>0.066381</td>\n      <td>0.096570</td>\n    </tr>\n    <tr>\n      <th>min</th>\n      <td>-0.670500</td>\n      <td>0.000000</td>\n      <td>0.000000</td>\n      <td>0.716000</td>\n    </tr>\n    <tr>\n      <th>25%</th>\n      <td>0.000000</td>\n      <td>0.000000</td>\n      <td>0.000000</td>\n      <td>0.833500</td>\n    </tr>\n    <tr>\n      <th>50%</th>\n      <td>0.000000</td>\n      <td>0.050000</td>\n      <td>0.000000</td>\n      <td>0.947000</td>\n    </tr>\n    <tr>\n      <th>75%</th>\n      <td>0.411700</td>\n      <td>0.102500</td>\n      <td>0.000000</td>\n      <td>1.000000</td>\n    </tr>\n    <tr>\n      <th>max</th>\n      <td>0.765000</td>\n      <td>0.174000</td>\n      <td>0.215000</td>\n      <td>1.000000</td>\n    </tr>\n  </tbody>\n</table>\n</div>"
     },
     "metadata": {},
     "execution_count": 9
    }
   ],
   "source": [
    "bitcoin_df.describe()"
   ]
  },
  {
   "cell_type": "code",
   "execution_count": 10,
   "metadata": {},
   "outputs": [
    {
     "output_type": "execute_result",
     "data": {
      "text/plain": [
       "                                   source  \\\n",
       "0        {'id': 'wired', 'name': 'Wired'}   \n",
       "1  {'id': None, 'name': 'Lifehacker.com'}   \n",
       "2  {'id': 'engadget', 'name': 'Engadget'}   \n",
       "3  {'id': 'mashable', 'name': 'Mashable'}   \n",
       "4  {'id': 'engadget', 'name': 'Engadget'}   \n",
       "\n",
       "                                              author  \\\n",
       "0                       Timothy B. Lee, Ars Technica   \n",
       "1  Mike Winters on Two Cents, shared by Mike Wint...   \n",
       "2                                       Karissa Bell   \n",
       "3                                     Stan Schroeder   \n",
       "4                                         Jon Fingas   \n",
       "\n",
       "                                               title  \\\n",
       "0  An Engineer Gets 9 Years for Stealing $10M Fro...   \n",
       "1     Is the New Visa Bitcoin Rewards Card Worth It?   \n",
       "2  PayPal now lets all US users buy, sell and hol...   \n",
       "3  Bitcoin is flirting with $20,000 again. How hi...   \n",
       "4  You can now spend China's digital currency at ...   \n",
       "\n",
       "                                         description  \\\n",
       "0  The defendant tried—and failed—to use bitcoin ...   \n",
       "1  Visa has partnered with cryptocurrency startup...   \n",
       "2  PayPal is bringing its newly-announced support...   \n",
       "3  In November 2017, after an absolutely massive,...   \n",
       "4  China’s official digital currency is now usabl...   \n",
       "\n",
       "                                                 url  \\\n",
       "0  https://www.wired.com/story/an-engineer-gets-9...   \n",
       "1  https://twocents.lifehacker.com/is-the-new-vis...   \n",
       "2  https://www.engadget.com/paypal-opens-cryptocu...   \n",
       "3        https://mashable.com/article/bitcoin-20000/   \n",
       "4  https://www.engadget.com/jd-com-supports-china...   \n",
       "\n",
       "                                          urlToImage           publishedAt  \\\n",
       "0  https://media.wired.com/photos/5fac6afb446b463...  2020-11-12T14:00:00Z   \n",
       "1  https://i.kinja-img.com/gawker-media/image/upl...  2020-12-03T22:00:00Z   \n",
       "2  https://o.aolcdn.com/images/dims?resize=1200%2...  2020-11-12T21:05:41Z   \n",
       "3  https://mondrian.mashable.com/2020%252F11%252F...  2020-11-20T20:02:17Z   \n",
       "4  https://o.aolcdn.com/images/dims?resize=1200%2...  2020-12-06T22:37:18Z   \n",
       "\n",
       "                                             content  \n",
       "0  A former Microsoft software engineer from Ukra...  \n",
       "1  Visa has partnered with cryptocurrency startup...  \n",
       "2  PayPal is bringing its newly-announced support...  \n",
       "3  In November 2017, after an absolutely massive,...  \n",
       "4  Unlike ‘conventional’ cryptocurrencies, a cent...  "
      ],
      "text/html": "<div>\n<style scoped>\n    .dataframe tbody tr th:only-of-type {\n        vertical-align: middle;\n    }\n\n    .dataframe tbody tr th {\n        vertical-align: top;\n    }\n\n    .dataframe thead th {\n        text-align: right;\n    }\n</style>\n<table border=\"1\" class=\"dataframe\">\n  <thead>\n    <tr style=\"text-align: right;\">\n      <th></th>\n      <th>source</th>\n      <th>author</th>\n      <th>title</th>\n      <th>description</th>\n      <th>url</th>\n      <th>urlToImage</th>\n      <th>publishedAt</th>\n      <th>content</th>\n    </tr>\n  </thead>\n  <tbody>\n    <tr>\n      <th>0</th>\n      <td>{'id': 'wired', 'name': 'Wired'}</td>\n      <td>Timothy B. Lee, Ars Technica</td>\n      <td>An Engineer Gets 9 Years for Stealing $10M Fro...</td>\n      <td>The defendant tried—and failed—to use bitcoin ...</td>\n      <td>https://www.wired.com/story/an-engineer-gets-9...</td>\n      <td>https://media.wired.com/photos/5fac6afb446b463...</td>\n      <td>2020-11-12T14:00:00Z</td>\n      <td>A former Microsoft software engineer from Ukra...</td>\n    </tr>\n    <tr>\n      <th>1</th>\n      <td>{'id': None, 'name': 'Lifehacker.com'}</td>\n      <td>Mike Winters on Two Cents, shared by Mike Wint...</td>\n      <td>Is the New Visa Bitcoin Rewards Card Worth It?</td>\n      <td>Visa has partnered with cryptocurrency startup...</td>\n      <td>https://twocents.lifehacker.com/is-the-new-vis...</td>\n      <td>https://i.kinja-img.com/gawker-media/image/upl...</td>\n      <td>2020-12-03T22:00:00Z</td>\n      <td>Visa has partnered with cryptocurrency startup...</td>\n    </tr>\n    <tr>\n      <th>2</th>\n      <td>{'id': 'engadget', 'name': 'Engadget'}</td>\n      <td>Karissa Bell</td>\n      <td>PayPal now lets all US users buy, sell and hol...</td>\n      <td>PayPal is bringing its newly-announced support...</td>\n      <td>https://www.engadget.com/paypal-opens-cryptocu...</td>\n      <td>https://o.aolcdn.com/images/dims?resize=1200%2...</td>\n      <td>2020-11-12T21:05:41Z</td>\n      <td>PayPal is bringing its newly-announced support...</td>\n    </tr>\n    <tr>\n      <th>3</th>\n      <td>{'id': 'mashable', 'name': 'Mashable'}</td>\n      <td>Stan Schroeder</td>\n      <td>Bitcoin is flirting with $20,000 again. How hi...</td>\n      <td>In November 2017, after an absolutely massive,...</td>\n      <td>https://mashable.com/article/bitcoin-20000/</td>\n      <td>https://mondrian.mashable.com/2020%252F11%252F...</td>\n      <td>2020-11-20T20:02:17Z</td>\n      <td>In November 2017, after an absolutely massive,...</td>\n    </tr>\n    <tr>\n      <th>4</th>\n      <td>{'id': 'engadget', 'name': 'Engadget'}</td>\n      <td>Jon Fingas</td>\n      <td>You can now spend China's digital currency at ...</td>\n      <td>China’s official digital currency is now usabl...</td>\n      <td>https://www.engadget.com/jd-com-supports-china...</td>\n      <td>https://o.aolcdn.com/images/dims?resize=1200%2...</td>\n      <td>2020-12-06T22:37:18Z</td>\n      <td>Unlike ‘conventional’ cryptocurrencies, a cent...</td>\n    </tr>\n  </tbody>\n</table>\n</div>"
     },
     "metadata": {},
     "execution_count": 10
    }
   ],
   "source": [
    "articles_bitcoin_df = pd.DataFrame.from_dict(fetch_bitcoin_news[\"articles\"])\n",
    "articles_bitcoin_df.head()"
   ]
  },
  {
   "cell_type": "code",
   "execution_count": 11,
   "metadata": {},
   "outputs": [
    {
     "output_type": "execute_result",
     "data": {
      "text/plain": [
       "         date                                               text  compound  \\\n",
       "0  2020-11-12  PayPal is bringing its newly-announced support...    0.2144   \n",
       "1  2020-11-23  FILE PHOTO: Representation of the Ethereum vir...    0.0000   \n",
       "2  2020-11-23  FILE PHOTO: Representation of the Ethereum vir...    0.0000   \n",
       "3  2020-11-23  LONDON (Reuters) - Digital currencies Ethereum...    0.4215   \n",
       "4  2020-11-19  PayPal has launched the Generosity Network, a ...    0.8779   \n",
       "\n",
       "   positive  negative  neutral  \n",
       "0     0.053       0.0    0.947  \n",
       "1     0.000       0.0    1.000  \n",
       "2     0.000       0.0    1.000  \n",
       "3     0.088       0.0    0.912  \n",
       "4     0.318       0.0    0.682  "
      ],
      "text/html": "<div>\n<style scoped>\n    .dataframe tbody tr th:only-of-type {\n        vertical-align: middle;\n    }\n\n    .dataframe tbody tr th {\n        vertical-align: top;\n    }\n\n    .dataframe thead th {\n        text-align: right;\n    }\n</style>\n<table border=\"1\" class=\"dataframe\">\n  <thead>\n    <tr style=\"text-align: right;\">\n      <th></th>\n      <th>date</th>\n      <th>text</th>\n      <th>compound</th>\n      <th>positive</th>\n      <th>negative</th>\n      <th>neutral</th>\n    </tr>\n  </thead>\n  <tbody>\n    <tr>\n      <th>0</th>\n      <td>2020-11-12</td>\n      <td>PayPal is bringing its newly-announced support...</td>\n      <td>0.2144</td>\n      <td>0.053</td>\n      <td>0.0</td>\n      <td>0.947</td>\n    </tr>\n    <tr>\n      <th>1</th>\n      <td>2020-11-23</td>\n      <td>FILE PHOTO: Representation of the Ethereum vir...</td>\n      <td>0.0000</td>\n      <td>0.000</td>\n      <td>0.0</td>\n      <td>1.000</td>\n    </tr>\n    <tr>\n      <th>2</th>\n      <td>2020-11-23</td>\n      <td>FILE PHOTO: Representation of the Ethereum vir...</td>\n      <td>0.0000</td>\n      <td>0.000</td>\n      <td>0.0</td>\n      <td>1.000</td>\n    </tr>\n    <tr>\n      <th>3</th>\n      <td>2020-11-23</td>\n      <td>LONDON (Reuters) - Digital currencies Ethereum...</td>\n      <td>0.4215</td>\n      <td>0.088</td>\n      <td>0.0</td>\n      <td>0.912</td>\n    </tr>\n    <tr>\n      <th>4</th>\n      <td>2020-11-19</td>\n      <td>PayPal has launched the Generosity Network, a ...</td>\n      <td>0.8779</td>\n      <td>0.318</td>\n      <td>0.0</td>\n      <td>0.682</td>\n    </tr>\n  </tbody>\n</table>\n</div>"
     },
     "metadata": {},
     "execution_count": 11
    }
   ],
   "source": [
    "# Create the ethereum sentiment scores DataFrame\n",
    "# YOUR CODE HERE!\n",
    "ethereum_sentiments = []\n",
    "for article in fetch_ethereum_news[\"articles\"]:\n",
    "    try:\n",
    "        text = article[\"content\"]\n",
    "        date = article[\"publishedAt\"][:10]\n",
    "        sentiment = analyzer.polarity_scores(text)\n",
    "        compound = sentiment[\"compound\"]\n",
    "        pos = sentiment[\"pos\"]\n",
    "        neu = sentiment[\"neu\"]\n",
    "        neg = sentiment[\"neg\"]\n",
    "\n",
    "        ethereum_sentiments.append({\n",
    "            \"text\": text,\n",
    "            \"date\": date,\n",
    "            \"compound\": compound,\n",
    "            \"positive\": pos,\n",
    "            \"negative\": neg,\n",
    "            \"neutral\": neu\n",
    "        })\n",
    "    except AttributeError:\n",
    "        pass\n",
    "\n",
    "ethe_df = pd.DataFrame(ethereum_sentiments)\n",
    "\n",
    "#Reorder columns\n",
    "cols = [\"date\",\"text\", \"compound\", \"positive\",\"negative\", \"neutral\"]\n",
    "ethe_df = ethe_df[cols]\n",
    "ethe_df.head()"
   ]
  },
  {
   "cell_type": "code",
   "execution_count": 12,
   "metadata": {},
   "outputs": [
    {
     "output_type": "execute_result",
     "data": {
      "text/plain": [
       "        compound  positive   negative    neutral\n",
       "count  20.000000  20.00000  20.000000  20.000000\n",
       "mean    0.153245   0.06430   0.021050   0.914650\n",
       "std     0.339247   0.07896   0.054473   0.104806\n",
       "min    -0.493900   0.00000   0.000000   0.672000\n",
       "25%     0.000000   0.00000   0.000000   0.876000\n",
       "50%     0.000000   0.06150   0.000000   0.932000\n",
       "75%     0.430825   0.09525   0.000000   1.000000\n",
       "max     0.877900   0.31800   0.196000   1.000000"
      ],
      "text/html": "<div>\n<style scoped>\n    .dataframe tbody tr th:only-of-type {\n        vertical-align: middle;\n    }\n\n    .dataframe tbody tr th {\n        vertical-align: top;\n    }\n\n    .dataframe thead th {\n        text-align: right;\n    }\n</style>\n<table border=\"1\" class=\"dataframe\">\n  <thead>\n    <tr style=\"text-align: right;\">\n      <th></th>\n      <th>compound</th>\n      <th>positive</th>\n      <th>negative</th>\n      <th>neutral</th>\n    </tr>\n  </thead>\n  <tbody>\n    <tr>\n      <th>count</th>\n      <td>20.000000</td>\n      <td>20.00000</td>\n      <td>20.000000</td>\n      <td>20.000000</td>\n    </tr>\n    <tr>\n      <th>mean</th>\n      <td>0.153245</td>\n      <td>0.06430</td>\n      <td>0.021050</td>\n      <td>0.914650</td>\n    </tr>\n    <tr>\n      <th>std</th>\n      <td>0.339247</td>\n      <td>0.07896</td>\n      <td>0.054473</td>\n      <td>0.104806</td>\n    </tr>\n    <tr>\n      <th>min</th>\n      <td>-0.493900</td>\n      <td>0.00000</td>\n      <td>0.000000</td>\n      <td>0.672000</td>\n    </tr>\n    <tr>\n      <th>25%</th>\n      <td>0.000000</td>\n      <td>0.00000</td>\n      <td>0.000000</td>\n      <td>0.876000</td>\n    </tr>\n    <tr>\n      <th>50%</th>\n      <td>0.000000</td>\n      <td>0.06150</td>\n      <td>0.000000</td>\n      <td>0.932000</td>\n    </tr>\n    <tr>\n      <th>75%</th>\n      <td>0.430825</td>\n      <td>0.09525</td>\n      <td>0.000000</td>\n      <td>1.000000</td>\n    </tr>\n    <tr>\n      <th>max</th>\n      <td>0.877900</td>\n      <td>0.31800</td>\n      <td>0.196000</td>\n      <td>1.000000</td>\n    </tr>\n  </tbody>\n</table>\n</div>"
     },
     "metadata": {},
     "execution_count": 12
    }
   ],
   "source": [
    "ethe_df.describe()"
   ]
  },
  {
   "cell_type": "code",
   "execution_count": 13,
   "metadata": {},
   "outputs": [],
   "source": [
    "# Describe the Bitcoin Sentiment\n",
    "# YOUR CODE HERE!"
   ]
  },
  {
   "cell_type": "code",
   "execution_count": 14,
   "metadata": {},
   "outputs": [],
   "source": [
    "# Describe the Ethereum Sentiment\n",
    "# YOUR CODE HERE!"
   ]
  },
  {
   "cell_type": "markdown",
   "metadata": {},
   "source": [
    "### Questions:\n",
    "\n",
    "Q: Which coin had the highest mean positive score?\n",
    "\n",
    "A: \n",
    "\n",
    "Q: Which coin had the highest compound score?\n",
    "\n",
    "A: \n",
    "\n",
    "Q. Which coin had the highest positive score?\n",
    "\n",
    "A: "
   ]
  },
  {
   "cell_type": "markdown",
   "metadata": {},
   "source": [
    "---"
   ]
  },
  {
   "cell_type": "markdown",
   "metadata": {},
   "source": [
    "# Tokenizer\n",
    "\n",
    "In this section, you will use NLTK and Python to tokenize the text for each coin. Be sure to:\n",
    "1. Lowercase each word\n",
    "2. Remove Punctuation\n",
    "3. Remove Stopwords"
   ]
  },
  {
   "cell_type": "code",
   "execution_count": 15,
   "metadata": {},
   "outputs": [],
   "source": [
    "from nltk.tokenize import word_tokenize, sent_tokenize\n",
    "from nltk.corpus import stopwords\n",
    "from nltk.stem import WordNetLemmatizer, PorterStemmer\n",
    "from string import punctuation\n",
    "import re"
   ]
  },
  {
   "cell_type": "code",
   "execution_count": 16,
   "metadata": {},
   "outputs": [
    {
     "output_type": "stream",
     "name": "stderr",
     "text": [
      "[nltk_data] Downloading package stopwords to\n[nltk_data]     C:\\Users\\Trader\\AppData\\Roaming\\nltk_data...\n[nltk_data]   Package stopwords is already up-to-date!\n"
     ]
    },
    {
     "output_type": "execute_result",
     "data": {
      "text/plain": [
       "'Visa\\xa0has partnered with cryptocurrency startup BlockFi to offer the first rewards credit card that pays out in Bitcoin rather than cash, but is it worth applying for? Unless youre extremely bullish o… [+2239 chars]'"
      ]
     },
     "metadata": {},
     "execution_count": 16
    }
   ],
   "source": [
    "# Expand the default stopwords list if necessary\n",
    "\"\"\" This segment is to test the code with one article\"\"\"\n",
    "nltk.download('stopwords')\n",
    "article_bitcoin = articles_bitcoin_df['content'][1]\n",
    "#word_tokenize(article)\n",
    "article_bitcoin"
   ]
  },
  {
   "cell_type": "code",
   "execution_count": 17,
   "metadata": {},
   "outputs": [],
   "source": [
    "token_article_bitcoin = word_tokenize(article_bitcoin)\n",
    "#token_article_bitcoin"
   ]
  },
  {
   "cell_type": "code",
   "execution_count": 18,
   "metadata": {},
   "outputs": [
    {
     "output_type": "stream",
     "name": "stdout",
     "text": [
      "['visa', 'partnered', 'cryptocurrency', 'startup', 'blockfi', 'offer', 'first', 'rewards', 'credit', 'card', 'pays', 'bitcoin', 'rather', 'cash', ',', 'worth', 'applying', '?', 'unless', 'youre', 'extremely', 'bullish', 'o…', '[', '+2239', 'chars', ']']\n"
     ]
    }
   ],
   "source": [
    "sw = set(stopwords.words('english'))\n",
    "first_result = [token.lower() for token in token_article_bitcoin if token.lower() not in sw] \n",
    "print(first_result)"
   ]
  },
  {
   "cell_type": "code",
   "execution_count": 27,
   "metadata": {},
   "outputs": [
    {
     "output_type": "stream",
     "name": "stdout",
     "text": [
      "PayPal is bringing its newlyannounced support for cryptocurrency to all US accounts It first announced plans to open cryptocurrency trading to USbased users in October but until now it was only a  chars\n['paypal', 'bringing', 'newlyannounced', 'support', 'cryptocurrency', 'us', 'accounts', 'first', 'announced', 'plans', 'open', 'cryptocurrency', 'trading', 'usbased', 'users', 'october', 'chars']\n"
     ]
    }
   ],
   "source": [
    "# 1) getting rid of Non-alpha characters: Regex\n",
    "#sentence_bit = sent_tokenize(article_bitcoin)\n",
    "regex = re.compile(\"[^a-zA-Z ]\")\n",
    "re_bit_clean = regex.sub('',article_bitcoin)\n",
    "print(re_bit_clean)\n",
    "# then 2) remove stopwords from regex_clean sentence\n",
    "\n",
    "token_article_from_string = word_tokenize(re_bit_clean)\n",
    "stopword_removed_bit = [token.lower() for token in token_article_from_string if token.lower() not in sw]\n",
    "print(stopword_removed_bit)"
   ]
  },
  {
   "cell_type": "code",
   "execution_count": 28,
   "metadata": {},
   "outputs": [
    {
     "output_type": "stream",
     "name": "stdout",
     "text": [
      "['paypal', 'bringing', 'newlyannounced', 'support', 'cryptocurrency', 'u', 'account', 'first', 'announced', 'plan', 'open', 'cryptocurrency', 'trading', 'usbased', 'user', 'october', 'char']\n"
     ]
    }
   ],
   "source": [
    "# then 3) lemmatize the words\n",
    "lemmatizer = WordNetLemmatizer() # instanciate the lemmatizer\n",
    "final_root = [lemmatizer.lemmatize(word) for word in stopword_removed_bit ]\n",
    "print(final_root)"
   ]
  },
  {
   "cell_type": "code",
   "execution_count": 30,
   "metadata": {},
   "outputs": [
    {
     "output_type": "execute_result",
     "data": {
      "text/plain": [
       "\"for word in article_bitcoin:\\n    reg.sub('', word)\""
      ]
     },
     "metadata": {},
     "execution_count": 30
    }
   ],
   "source": [
    "new_clean = [regex.sub('',word) for word in article_bitcoin ]\n",
    "\"\"\"for word in article_bitcoin:\n",
    "    reg.sub('', word)\"\"\"\n",
    "\n",
    "\n"
   ]
  },
  {
   "cell_type": "code",
   "execution_count": 21,
   "metadata": {},
   "outputs": [],
   "source": [
    "# Complete the tokenizer function\n",
    "def tokenizer(text):\n",
    "    \"\"\"Tokenizes text.\"\"\"\n",
    "    \n",
    "    # Create a list of the words\n",
    "    tokens = []\n",
    "    sw = set(stopwords.words('english'))\n",
    "    regex = re.compile(\"[^a-zA-Z ]\")\n",
    "    # Convert the words to lowercase\n",
    "    #sentence = sent_tokenize(text)\n",
    "    # Remove the punctuation\n",
    "    re_clean = regex.sub('',text)\n",
    "    token_article = word_tokenize(re_clean)\n",
    "    \n",
    "    # Remove the stop words\n",
    "    stopword_removed = [token.lower() for token in token_article if token.lower() not in sw]\n",
    "    \n",
    "    # Lemmatize Words into root words\n",
    "    tokens = [lemmatizer.lemmatize(word) for word in stopword_removed ]\n",
    "\n",
    "    return tokens\n"
   ]
  },
  {
   "cell_type": "code",
   "execution_count": 31,
   "metadata": {},
   "outputs": [
    {
     "output_type": "execute_result",
     "data": {
      "text/plain": [
       "['unlike',\n",
       " 'conventional',\n",
       " 'cryptocurrencies',\n",
       " 'central',\n",
       " 'bank',\n",
       " 'control',\n",
       " 'digital',\n",
       " 'yuan',\n",
       " 'case',\n",
       " 'people',\n",
       " 'bank',\n",
       " 'china',\n",
       " 'move',\n",
       " 'give',\n",
       " 'country',\n",
       " 'power',\n",
       " 'theory',\n",
       " 'stability',\n",
       " 'freq',\n",
       " 'char']"
      ]
     },
     "metadata": {},
     "execution_count": 31
    }
   ],
   "source": [
    "#test function\n",
    "article_bitcoin = articles_bitcoin_df['content'][4]\n",
    "token_list = tokenizer(article_bitcoin)\n",
    "token_list"
   ]
  },
  {
   "cell_type": "code",
   "execution_count": 23,
   "metadata": {},
   "outputs": [
    {
     "output_type": "execute_result",
     "data": {
      "text/plain": [
       "\"for index, row in articles_bitcoin_df.iterrows():\\n    try:\\n        article_bitcoin = articles_bitcoin_df['content'][row]\\n        token_list = tokenizer(article_bitcoin)\\n\\n    except AttributeError:\\n        pass\\n#token_list_df = pd.DataFrame(token_list)\\narticles_bitcoin_df['tokens']=articles_bitcoin_df.apply(lambda row: tokenizer(articles_bitcoin_df['content'][row]), axis=1)\\narticles_bitcoin_df.head()\""
      ]
     },
     "metadata": {},
     "execution_count": 23
    }
   ],
   "source": [
    "# Create a new tokens column for bitcoin\n",
    "\"\"\"for index, row in articles_bitcoin_df.iterrows():\n",
    "    try:\n",
    "        article_bitcoin = articles_bitcoin_df['content'][row]\n",
    "        token_list = tokenizer(article_bitcoin)\n",
    "\n",
    "    except AttributeError:\n",
    "        pass\n",
    "#token_list_df = pd.DataFrame(token_list)\n",
    "articles_bitcoin_df['tokens']=articles_bitcoin_df.apply(lambda row: tokenizer(articles_bitcoin_df['content'][row]), axis=1)\n",
    "articles_bitcoin_df.head()\"\"\""
   ]
  },
  {
   "cell_type": "code",
   "execution_count": 24,
   "metadata": {},
   "outputs": [
    {
     "output_type": "execute_result",
     "data": {
      "text/plain": [
       "['paypal',\n",
       " 'bringing',\n",
       " 'newlyannounced',\n",
       " 'support',\n",
       " 'cryptocurrency',\n",
       " 'u',\n",
       " 'account',\n",
       " 'first',\n",
       " 'announced',\n",
       " 'plan',\n",
       " 'open',\n",
       " 'cryptocurrency',\n",
       " 'trading',\n",
       " 'usbased',\n",
       " 'user',\n",
       " 'october',\n",
       " 'char']"
      ]
     },
     "metadata": {},
     "execution_count": 24
    }
   ],
   "source": [
    "article_bitcoin = articles_bitcoin_df['content'][2]\n",
    "token_list = tokenizer(article_bitcoin)\n",
    "token_list"
   ]
  },
  {
   "cell_type": "code",
   "execution_count": 35,
   "metadata": {},
   "outputs": [
    {
     "output_type": "error",
     "ename": "TypeError",
     "evalue": "expected string or bytes-like object",
     "traceback": [
      "\u001b[1;31m---------------------------------------------------------------------------\u001b[0m",
      "\u001b[1;31mTypeError\u001b[0m                                 Traceback (most recent call last)",
      "\u001b[1;32m<ipython-input-35-060eb245b00e>\u001b[0m in \u001b[0;36m<module>\u001b[1;34m\u001b[0m\n\u001b[1;32m----> 1\u001b[1;33m \u001b[0mtokens_2_bit\u001b[0m \u001b[1;33m=\u001b[0m \u001b[1;33m[\u001b[0m\u001b[0mtokenizer\u001b[0m\u001b[1;33m(\u001b[0m\u001b[0marticles_bitcoin_df\u001b[0m\u001b[1;33m[\u001b[0m\u001b[1;34m'content'\u001b[0m\u001b[1;33m]\u001b[0m\u001b[1;33m[\u001b[0m\u001b[0mrow\u001b[0m\u001b[1;33m]\u001b[0m\u001b[1;33m)\u001b[0m \u001b[1;32mfor\u001b[0m \u001b[0mrow\u001b[0m \u001b[1;32min\u001b[0m \u001b[0mrange\u001b[0m\u001b[1;33m(\u001b[0m\u001b[0mlen\u001b[0m\u001b[1;33m(\u001b[0m\u001b[0marticles_bitcoin_df\u001b[0m\u001b[1;33m[\u001b[0m\u001b[1;34m'content'\u001b[0m\u001b[1;33m]\u001b[0m\u001b[1;33m)\u001b[0m\u001b[1;33m)\u001b[0m\u001b[1;33m]\u001b[0m\u001b[1;33m\u001b[0m\u001b[1;33m\u001b[0m\u001b[0m\n\u001b[0m\u001b[0;32m      2\u001b[0m \u001b[0mprint\u001b[0m\u001b[1;33m(\u001b[0m\u001b[0mtokens_2_bit\u001b[0m\u001b[1;33m[\u001b[0m\u001b[1;33m:\u001b[0m\u001b[1;36m5\u001b[0m\u001b[1;33m]\u001b[0m\u001b[1;33m)\u001b[0m\u001b[1;33m\u001b[0m\u001b[1;33m\u001b[0m\u001b[0m\n",
      "\u001b[1;32m<ipython-input-35-060eb245b00e>\u001b[0m in \u001b[0;36m<listcomp>\u001b[1;34m(.0)\u001b[0m\n\u001b[1;32m----> 1\u001b[1;33m \u001b[0mtokens_2_bit\u001b[0m \u001b[1;33m=\u001b[0m \u001b[1;33m[\u001b[0m\u001b[0mtokenizer\u001b[0m\u001b[1;33m(\u001b[0m\u001b[0marticles_bitcoin_df\u001b[0m\u001b[1;33m[\u001b[0m\u001b[1;34m'content'\u001b[0m\u001b[1;33m]\u001b[0m\u001b[1;33m[\u001b[0m\u001b[0mrow\u001b[0m\u001b[1;33m]\u001b[0m\u001b[1;33m)\u001b[0m \u001b[1;32mfor\u001b[0m \u001b[0mrow\u001b[0m \u001b[1;32min\u001b[0m \u001b[0mrange\u001b[0m\u001b[1;33m(\u001b[0m\u001b[0mlen\u001b[0m\u001b[1;33m(\u001b[0m\u001b[0marticles_bitcoin_df\u001b[0m\u001b[1;33m[\u001b[0m\u001b[1;34m'content'\u001b[0m\u001b[1;33m]\u001b[0m\u001b[1;33m)\u001b[0m\u001b[1;33m)\u001b[0m\u001b[1;33m]\u001b[0m\u001b[1;33m\u001b[0m\u001b[1;33m\u001b[0m\u001b[0m\n\u001b[0m\u001b[0;32m      2\u001b[0m \u001b[0mprint\u001b[0m\u001b[1;33m(\u001b[0m\u001b[0mtokens_2_bit\u001b[0m\u001b[1;33m[\u001b[0m\u001b[1;33m:\u001b[0m\u001b[1;36m5\u001b[0m\u001b[1;33m]\u001b[0m\u001b[1;33m)\u001b[0m\u001b[1;33m\u001b[0m\u001b[1;33m\u001b[0m\u001b[0m\n",
      "\u001b[1;32m<ipython-input-21-dae440776a7a>\u001b[0m in \u001b[0;36mtokenizer\u001b[1;34m(text)\u001b[0m\n\u001b[0;32m     10\u001b[0m     \u001b[1;31m#sentence = sent_tokenize(text)\u001b[0m\u001b[1;33m\u001b[0m\u001b[1;33m\u001b[0m\u001b[1;33m\u001b[0m\u001b[0m\n\u001b[0;32m     11\u001b[0m     \u001b[1;31m# Remove the punctuation\u001b[0m\u001b[1;33m\u001b[0m\u001b[1;33m\u001b[0m\u001b[1;33m\u001b[0m\u001b[0m\n\u001b[1;32m---> 12\u001b[1;33m     \u001b[0mre_clean\u001b[0m \u001b[1;33m=\u001b[0m \u001b[0mregex\u001b[0m\u001b[1;33m.\u001b[0m\u001b[0msub\u001b[0m\u001b[1;33m(\u001b[0m\u001b[1;34m''\u001b[0m\u001b[1;33m,\u001b[0m\u001b[0mtext\u001b[0m\u001b[1;33m)\u001b[0m\u001b[1;33m\u001b[0m\u001b[1;33m\u001b[0m\u001b[0m\n\u001b[0m\u001b[0;32m     13\u001b[0m     \u001b[0mtoken_article\u001b[0m \u001b[1;33m=\u001b[0m \u001b[0mword_tokenize\u001b[0m\u001b[1;33m(\u001b[0m\u001b[0mre_clean\u001b[0m\u001b[1;33m)\u001b[0m\u001b[1;33m\u001b[0m\u001b[1;33m\u001b[0m\u001b[0m\n\u001b[0;32m     14\u001b[0m \u001b[1;33m\u001b[0m\u001b[0m\n",
      "\u001b[1;31mTypeError\u001b[0m: expected string or bytes-like object"
     ]
    }
   ],
   "source": [
    "tokens_2_bit = [tokenizer(articles_bitcoin_df['content'][row]) for row in range(len(articles_bitcoin_df['content']))]\n",
    "print(tokens_2_bit[:5])"
   ]
  },
  {
   "cell_type": "code",
   "execution_count": null,
   "metadata": {},
   "outputs": [],
   "source": []
  },
  {
   "cell_type": "code",
   "execution_count": 26,
   "metadata": {},
   "outputs": [
    {
     "output_type": "error",
     "ename": "TypeError",
     "evalue": "expected string or bytes-like object",
     "traceback": [
      "\u001b[1;31m---------------------------------------------------------------------------\u001b[0m",
      "\u001b[1;31mTypeError\u001b[0m                                 Traceback (most recent call last)",
      "\u001b[1;32m<ipython-input-26-6db8854ff4b0>\u001b[0m in \u001b[0;36m<module>\u001b[1;34m\u001b[0m\n\u001b[1;32m----> 1\u001b[1;33m \u001b[0mtake_1\u001b[0m \u001b[1;33m=\u001b[0m \u001b[1;33m[\u001b[0m\u001b[0mtokenizer\u001b[0m\u001b[1;33m(\u001b[0m\u001b[0mrow\u001b[0m\u001b[1;33m)\u001b[0m \u001b[1;32mfor\u001b[0m \u001b[0mrow\u001b[0m \u001b[1;32min\u001b[0m \u001b[0marticles_bitcoin_df\u001b[0m\u001b[1;33m[\u001b[0m\u001b[1;34m'content'\u001b[0m\u001b[1;33m]\u001b[0m\u001b[1;33m]\u001b[0m\u001b[1;33m\u001b[0m\u001b[1;33m\u001b[0m\u001b[0m\n\u001b[0m\u001b[0;32m      2\u001b[0m \u001b[0mtake_1\u001b[0m\u001b[1;33m\u001b[0m\u001b[1;33m\u001b[0m\u001b[0m\n",
      "\u001b[1;32m<ipython-input-26-6db8854ff4b0>\u001b[0m in \u001b[0;36m<listcomp>\u001b[1;34m(.0)\u001b[0m\n\u001b[1;32m----> 1\u001b[1;33m \u001b[0mtake_1\u001b[0m \u001b[1;33m=\u001b[0m \u001b[1;33m[\u001b[0m\u001b[0mtokenizer\u001b[0m\u001b[1;33m(\u001b[0m\u001b[0mrow\u001b[0m\u001b[1;33m)\u001b[0m \u001b[1;32mfor\u001b[0m \u001b[0mrow\u001b[0m \u001b[1;32min\u001b[0m \u001b[0marticles_bitcoin_df\u001b[0m\u001b[1;33m[\u001b[0m\u001b[1;34m'content'\u001b[0m\u001b[1;33m]\u001b[0m\u001b[1;33m]\u001b[0m\u001b[1;33m\u001b[0m\u001b[1;33m\u001b[0m\u001b[0m\n\u001b[0m\u001b[0;32m      2\u001b[0m \u001b[0mtake_1\u001b[0m\u001b[1;33m\u001b[0m\u001b[1;33m\u001b[0m\u001b[0m\n",
      "\u001b[1;32m<ipython-input-21-dae440776a7a>\u001b[0m in \u001b[0;36mtokenizer\u001b[1;34m(text)\u001b[0m\n\u001b[0;32m     10\u001b[0m     \u001b[1;31m#sentence = sent_tokenize(text)\u001b[0m\u001b[1;33m\u001b[0m\u001b[1;33m\u001b[0m\u001b[1;33m\u001b[0m\u001b[0m\n\u001b[0;32m     11\u001b[0m     \u001b[1;31m# Remove the punctuation\u001b[0m\u001b[1;33m\u001b[0m\u001b[1;33m\u001b[0m\u001b[1;33m\u001b[0m\u001b[0m\n\u001b[1;32m---> 12\u001b[1;33m     \u001b[0mre_clean\u001b[0m \u001b[1;33m=\u001b[0m \u001b[0mregex\u001b[0m\u001b[1;33m.\u001b[0m\u001b[0msub\u001b[0m\u001b[1;33m(\u001b[0m\u001b[1;34m''\u001b[0m\u001b[1;33m,\u001b[0m\u001b[0mtext\u001b[0m\u001b[1;33m)\u001b[0m\u001b[1;33m\u001b[0m\u001b[1;33m\u001b[0m\u001b[0m\n\u001b[0m\u001b[0;32m     13\u001b[0m     \u001b[0mtoken_article\u001b[0m \u001b[1;33m=\u001b[0m \u001b[0mword_tokenize\u001b[0m\u001b[1;33m(\u001b[0m\u001b[0mre_clean\u001b[0m\u001b[1;33m)\u001b[0m\u001b[1;33m\u001b[0m\u001b[1;33m\u001b[0m\u001b[0m\n\u001b[0;32m     14\u001b[0m \u001b[1;33m\u001b[0m\u001b[0m\n",
      "\u001b[1;31mTypeError\u001b[0m: expected string or bytes-like object"
     ]
    }
   ],
   "source": [
    "take_1 = [tokenizer(row) for row in articles_bitcoin_df['content']]\n",
    "take_1"
   ]
  },
  {
   "cell_type": "code",
   "execution_count": null,
   "metadata": {},
   "outputs": [],
   "source": [
    "for row in articles_bitcoin_df['content']:\n",
    "    print(row)\n",
    "    print(\"new line\")"
   ]
  },
  {
   "cell_type": "code",
   "execution_count": null,
   "metadata": {},
   "outputs": [],
   "source": [
    "articles_bitcoin_df['tokens'] = articles_bitcoin_df['content'].apply(tokenizer) "
   ]
  },
  {
   "cell_type": "code",
   "execution_count": null,
   "metadata": {},
   "outputs": [],
   "source": [
    "def apply_tokenizer(x): \n",
    "    return tokenizer(x['content'])\n",
    "\n",
    "articles_bitcoin_df['tokens']= articles_bitcoin_df.apply(apply_tokenizer, axis=1)"
   ]
  },
  {
   "cell_type": "code",
   "execution_count": null,
   "metadata": {},
   "outputs": [],
   "source": [
    "# Create a new tokens column for ethereum\n",
    "# YOUR CODE HERE!"
   ]
  },
  {
   "cell_type": "markdown",
   "metadata": {},
   "source": [
    "---"
   ]
  },
  {
   "cell_type": "markdown",
   "metadata": {},
   "source": [
    "# NGrams and Frequency Analysis\n",
    "\n",
    "In this section you will look at the ngrams and word frequency for each coin. \n",
    "\n",
    "1. Use NLTK to produce the n-grams for N = 2. \n",
    "2. List the top 10 words for each coin. "
   ]
  },
  {
   "cell_type": "code",
   "execution_count": null,
   "metadata": {},
   "outputs": [],
   "source": [
    "from collections import Counter\n",
    "from nltk import ngrams"
   ]
  },
  {
   "cell_type": "code",
   "execution_count": null,
   "metadata": {},
   "outputs": [],
   "source": [
    "# Generate the Bitcoin N-grams where N=2\n",
    "# YOUR CODE HERE!"
   ]
  },
  {
   "cell_type": "code",
   "execution_count": null,
   "metadata": {},
   "outputs": [],
   "source": [
    "# Generate the Ethereum N-grams where N=2\n",
    "# YOUR CODE HERE!"
   ]
  },
  {
   "cell_type": "code",
   "execution_count": null,
   "metadata": {},
   "outputs": [],
   "source": [
    "# Use the token_count function to generate the top 10 words from each coin\n",
    "def token_count(tokens, N=10):\n",
    "    \"\"\"Returns the top N tokens from the frequency count\"\"\"\n",
    "    return Counter(tokens).most_common(N)"
   ]
  },
  {
   "cell_type": "code",
   "execution_count": null,
   "metadata": {},
   "outputs": [],
   "source": [
    "# Get the top 10 words for Bitcoin\n",
    "# YOUR CODE HERE!"
   ]
  },
  {
   "cell_type": "code",
   "execution_count": null,
   "metadata": {},
   "outputs": [],
   "source": [
    "# Get the top 10 words for Ethereum\n",
    "# YOUR CODE HERE!"
   ]
  },
  {
   "cell_type": "markdown",
   "metadata": {},
   "source": [
    "# Word Clouds\n",
    "\n",
    "In this section, you will generate word clouds for each coin to summarize the news for each coin"
   ]
  },
  {
   "cell_type": "code",
   "execution_count": null,
   "metadata": {},
   "outputs": [],
   "source": [
    "from wordcloud import WordCloud\n",
    "import matplotlib.pyplot as plt\n",
    "plt.style.use('seaborn-whitegrid')\n",
    "import matplotlib as mpl\n",
    "mpl.rcParams['figure.figsize'] = [20.0, 10.0]"
   ]
  },
  {
   "cell_type": "code",
   "execution_count": null,
   "metadata": {},
   "outputs": [],
   "source": [
    "# Generate the Bitcoin word cloud\n",
    "ids = "
   ]
  },
  {
   "cell_type": "code",
   "execution_count": null,
   "metadata": {},
   "outputs": [],
   "source": [
    "# Generate the Ethereum word cloud\n",
    "# YOUR CODE HERE!"
   ]
  },
  {
   "cell_type": "markdown",
   "metadata": {},
   "source": [
    "# Named Entity Recognition\n",
    "\n",
    "In this section, you will build a named entity recognition model for both coins and visualize the tags using SpaCy."
   ]
  },
  {
   "cell_type": "code",
   "execution_count": null,
   "metadata": {},
   "outputs": [],
   "source": [
    "import spacy\n",
    "from spacy import displacy"
   ]
  },
  {
   "cell_type": "code",
   "execution_count": null,
   "metadata": {},
   "outputs": [],
   "source": [
    "# Optional - download a language model for SpaCy\n",
    "# !python -m spacy download en_core_web_sm"
   ]
  },
  {
   "cell_type": "code",
   "execution_count": null,
   "metadata": {},
   "outputs": [],
   "source": [
    "# Load the spaCy model\n",
    "nlp = spacy.load('en_core_web_sm')"
   ]
  },
  {
   "cell_type": "markdown",
   "metadata": {},
   "source": [
    "## Bitcoin NER"
   ]
  },
  {
   "cell_type": "code",
   "execution_count": null,
   "metadata": {},
   "outputs": [],
   "source": [
    "# Concatenate all of the bitcoin text together\n",
    "# YOUR CODE HERE!"
   ]
  },
  {
   "cell_type": "code",
   "execution_count": null,
   "metadata": {},
   "outputs": [],
   "source": [
    "# Run the NER processor on all of the text\n",
    "# YOUR CODE HERE!\n",
    "\n",
    "# Add a title to the document\n",
    "# YOUR CODE HERE!"
   ]
  },
  {
   "cell_type": "code",
   "execution_count": null,
   "metadata": {},
   "outputs": [],
   "source": [
    "# Render the visualization\n",
    "# YOUR CODE HERE!"
   ]
  },
  {
   "cell_type": "code",
   "execution_count": null,
   "metadata": {},
   "outputs": [],
   "source": [
    "# List all Entities\n",
    "# YOUR CODE HERE!"
   ]
  },
  {
   "cell_type": "markdown",
   "metadata": {},
   "source": [
    "---"
   ]
  },
  {
   "cell_type": "markdown",
   "metadata": {},
   "source": [
    "## Ethereum NER"
   ]
  },
  {
   "cell_type": "code",
   "execution_count": null,
   "metadata": {},
   "outputs": [],
   "source": [
    "# Concatenate all of the bitcoin text together\n",
    "# YOUR CODE HERE!"
   ]
  },
  {
   "cell_type": "code",
   "execution_count": null,
   "metadata": {},
   "outputs": [],
   "source": [
    "# Run the NER processor on all of the text\n",
    "# YOUR CODE HERE!\n",
    "\n",
    "# Add a title to the document\n",
    "# YOUR CODE HERE!"
   ]
  },
  {
   "cell_type": "code",
   "execution_count": null,
   "metadata": {},
   "outputs": [],
   "source": [
    "# Render the visualization\n",
    "# YOUR CODE HERE!"
   ]
  },
  {
   "cell_type": "code",
   "execution_count": null,
   "metadata": {},
   "outputs": [],
   "source": [
    "# List all Entities\n",
    "# YOUR CODE HERE!"
   ]
  }
 ],
 "metadata": {
  "file_extension": ".py",
  "kernelspec": {
   "name": "python3",
   "display_name": "Python 3.8.3 64-bit ('pynews_env': conda)",
   "metadata": {
    "interpreter": {
     "hash": "5703ed211cbd9ed5491f45ad8ec6599ec494047df894c9d08da1166b786191e2"
    }
   }
  },
  "language_info": {
   "codemirror_mode": {
    "name": "ipython",
    "version": 3
   },
   "file_extension": ".py",
   "mimetype": "text/x-python",
   "name": "python",
   "nbconvert_exporter": "python",
   "pygments_lexer": "ipython3",
   "version": "3.8.3-final"
  },
  "mimetype": "text/x-python",
  "name": "python",
  "npconvert_exporter": "python",
  "pygments_lexer": "ipython3",
  "version": 3
 },
 "nbformat": 4,
 "nbformat_minor": 4
}